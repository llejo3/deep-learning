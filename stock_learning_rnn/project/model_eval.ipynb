{
 "cells": [
  {
   "cell_type": "code",
   "execution_count": null,
   "metadata": {},
   "outputs": [
    {
     "name": "stdout",
     "output_type": "stream",
     "text": [
      "INFO:tensorflow:Restoring parameters from ./data/files/sessions/001040.ckpt\n",
      "1 1040 CJ 0.04086413 967080.0499999999 922723.375 143\n",
      "INFO:tensorflow:Restoring parameters from ./data/files/sessions/012630.ckpt\n",
      "2 12630 HDC 0.048024487 907007.23 897155.73 73\n"
     ]
    }
   ],
   "source": [
    "import model_evaluation\n",
    "model_evaluation.main()"
   ]
  }
 ],
 "metadata": {
  "kernelspec": {
   "display_name": "Python 3",
   "language": "python",
   "name": "python3"
  },
  "language_info": {
   "codemirror_mode": {
    "name": "ipython",
    "version": 3
   },
   "file_extension": ".py",
   "mimetype": "text/x-python",
   "name": "python",
   "nbconvert_exporter": "python",
   "pygments_lexer": "ipython3",
   "version": "3.6.3"
  }
 },
 "nbformat": 4,
 "nbformat_minor": 2
}
