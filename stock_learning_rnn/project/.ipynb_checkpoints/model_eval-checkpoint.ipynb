{
 "cells": [
  {
   "cell_type": "code",
   "execution_count": 1,
   "metadata": {},
   "outputs": [
    {
     "data": {
      "text/plain": [
       "'1.10.0'"
      ]
     },
     "execution_count": 1,
     "metadata": {},
     "output_type": "execute_result"
    }
   ],
   "source": [
    "import tensorflow as tf\n",
    "tf.VERSION"
   ]
  },
  {
   "cell_type": "code",
   "execution_count": 1,
   "metadata": {},
   "outputs": [
    {
     "name": "stdout",
     "output_type": "stream",
     "text": [
      "Collecting xlrd\n",
      "  Using cached https://files.pythonhosted.org/packages/07/e6/e95c4eec6221bfd8528bcc4ea252a850bffcc4be88ebc367e23a1a84b0bb/xlrd-1.1.0-py2.py3-none-any.whl\n",
      "\u001b[31mmxnet-cu80 1.1.0 has requirement numpy<=1.13.3, but you'll have numpy 1.14.3 which is incompatible.\u001b[0m\n",
      "Installing collected packages: xlrd\n",
      "Successfully installed xlrd-1.1.0\n",
      "\u001b[33mYou are using pip version 10.0.1, however version 18.0 is available.\n",
      "You should consider upgrading via the 'pip install --upgrade pip' command.\u001b[0m\n"
     ]
    }
   ],
   "source": [
    "!pip install xlrd"
   ]
  },
  {
   "cell_type": "code",
   "execution_count": 2,
   "metadata": {
    "collapsed": true
   },
   "outputs": [],
   "source": [
    "import pandas as pd\n",
    "from data.corp import Corp\n",
    "from data.stocks import Stocks\n",
    "from data.trains_data import TrainsData\n",
    "from trains.learning import Learning\n",
    "from trains.mock_investment import MockInvestment\n",
    "from data.data_utils import DataUtils"
   ]
  },
  {
   "cell_type": "code",
   "execution_count": 3,
   "metadata": {
    "collapsed": true
   },
   "outputs": [],
   "source": [
    "def let_train_invest(corp_code, corp_name, params, no) :\n",
    "    stocks = Stocks()\n",
    "    trains_data = TrainsData(params)\n",
    "    learning = Learning(params)\n",
    "    invest = MockInvestment(params)\n",
    "    \n",
    "    stock_data = stocks.get_stock_data(corp_code)\n",
    "    data_params, scaler_close, dataX_last = trains_data.get_train_test(stock_data)\n",
    "    rmse_val, train_cnt, rmse_vals, test_predict = learning.let_learning(corp_code, data_params)\n",
    "    last_money, last_predict, invest_predicts, all_invest_money = invest.let_invest(corp_code, train_cnt, dataX_last, data_params)\n",
    "    print(no, corp_code, corp_name, rmse_val, last_money, all_invest_money, train_cnt)\n",
    "    return [no, corp_code, corp_name, rmse_val, last_money, all_invest_money, train_cnt]\n",
    "\n",
    "def let_train_invests(corps, params):\n",
    "    comp_rmses = []\n",
    "    no = 1\n",
    "    for index, corp_data in corps.iterrows():\n",
    "        corp_code = corp_data['종목코드']\n",
    "        corp_name = corp_data['회사명']\n",
    "        result = let_train_invest(corp_code, corp_name, params, no)\n",
    "        comp_rmses.append(result)\n",
    "        if no % 10 == 0:\n",
    "            df_comp_rmses = pd.DataFrame(comp_rmses, columns=['no', 'code', 'name', 'rmse', 'invest_result', 'all_invest_result', 'train_cnt'])\n",
    "            DataUtils.save_excel(df_comp_rmses, 'training_invest_result.xlsx')\n",
    "        no += 1"
   ]
  },
  {
   "cell_type": "code",
   "execution_count": 5,
   "metadata": {
    "collapsed": true
   },
   "outputs": [],
   "source": [
    "def main():\n",
    "    corp = Corp()\n",
    "    corps = corp.get_corps('2004-12-31', ['회사명', '종목코드'])\n",
    "    params = {\n",
    "        'seq_length': 5,  # 시퀀스 갯수\n",
    "        'data_dim': 5,  # 입력 데이터 갯수\n",
    "        'hidden_dims': [128, 96, 64],  # 히든 레이어 갯수\n",
    "        'dropout_keep': 0.8,  # dropout\n",
    "        'output_dim': 1,  # 출력 데이터 갯수\n",
    "        'learning_rate': 0.0001,\n",
    "        'iterations': [10, 200],  # 최소, 최대 훈련 반복횟수\n",
    "        'rmse_max': 0.045,\n",
    "        'train_percent': 80.0,  # 훈련 데이터 퍼센트\n",
    "        'loss_up_count': 12,  # early stopping\n",
    "        'invest_count': 50,  # 투자 횟수\n",
    "        'invest_money': 1000000,  # 각 주식에 모의투자할 금액\n",
    "        'fee_percent': 0.015,  # 투자시 발생하는 수수료\n",
    "        'tax_percent': 0.5,  # 매도시 발생하는 세금\n",
    "        'invest_min_percent': 0.6,  # 투자를 하는 최소 간격 퍼센트\n",
    "        'kor_font_path': 'C:\\\\WINDOWS\\\\Fonts\\\\H2GTRM.TTF'\n",
    "    }\n",
    "    let_train_invests(corps, params)\n",
    "    \n",
    "    "
   ]
  },
  {
   "cell_type": "code",
   "execution_count": null,
   "metadata": {},
   "outputs": [],
   "source": [
    "main()"
   ]
  }
 ],
 "metadata": {
  "kernelspec": {
   "display_name": "Python 3",
   "language": "python",
   "name": "python3"
  },
  "language_info": {
   "codemirror_mode": {
    "name": "ipython",
    "version": 3
   },
   "file_extension": ".py",
   "mimetype": "text/x-python",
   "name": "python",
   "nbconvert_exporter": "python",
   "pygments_lexer": "ipython3",
   "version": "3.6.3"
  }
 },
 "nbformat": 4,
 "nbformat_minor": 2
}
