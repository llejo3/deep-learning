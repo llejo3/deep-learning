{
 "cells": [
  {
   "cell_type": "code",
   "execution_count": 2,
   "metadata": {},
   "outputs": [
    {
     "name": "stdout",
     "output_type": "stream",
     "text": [
      "Requirement already up-to-date: Beautifulsoup4 in c:\\users\\south\\anaconda3\\lib\\site-packages (4.6.0)\n",
      "Requirement already up-to-date: selenium in c:\\users\\south\\anaconda3\\lib\\site-packages (3.12.0)\n"
     ]
    },
    {
     "name": "stderr",
     "output_type": "stream",
     "text": [
      "grpcio 1.11.0 has requirement protobuf>=3.5.0.post1, but you'll have protobuf 3.4.1 which is incompatible.\n"
     ]
    }
   ],
   "source": [
    "!pip install --upgrade Beautifulsoup4 selenium"
   ]
  },
  {
   "cell_type": "code",
   "execution_count": 7,
   "metadata": {},
   "outputs": [
    {
     "name": "stdout",
     "output_type": "stream",
     "text": [
      "0 Message: no such element: Unable to locate element: {\"method\":\"css selector\",\"selector\":\".simplecmt_link_text\"}\n",
      "  (Session info: chrome=66.0.3359.181)\n",
      "  (Driver info: chromedriver=2.38.552522 (437e6fbedfa8762dec75e2c5b3ddb86763dc9dcb),platform=Windows NT 10.0.17134 x86_64)\n",
      "\n"
     ]
    },
    {
     "data": {
      "text/plain": [
       "['개돼지들 올해넘기기 힘들것....경제는 망가지고 있는데...', '바야흐로 문재앙 독재시대 나라 졷망각나온다', '한국당  정신차려라']"
      ]
     },
     "execution_count": 7,
     "metadata": {},
     "output_type": "execute_result"
    }
   ],
   "source": [
    "import time\n",
    "\n",
    "from bs4 import BeautifulSoup\n",
    "from selenium import webdriver\n",
    "from selenium.common import exceptions\n",
    "\n",
    "wd = \"./chromedriver\"  # 다운 받은 웹드라이버 위치\n",
    "addr = \"http://news.naver.com/main/read.nhn?oid=056&sid1=100&aid=0010586302&mid=shm&mode=LSD&nh=20180613180257\" \n",
    "# 크롤링하고자하는 사이트 주소\n",
    "# 개인적으론 모바일 페이지로 하는게 더 가볍고 빠를것같은 기분이 든다.\n",
    "\n",
    "driver = webdriver.Chrome(wd)\n",
    "driver.get(addr)\n",
    "\n",
    "pages = 0 # 한 페이지당 약 20개의 댓글이 표시\n",
    "try:\n",
    "    while True: # 댓글 페이지가 몇개인지 모르므로.\n",
    "        driver.find_element_by_css_selector(\".simplecmt_link_text\").click()\n",
    "        time.sleep(1.5)\n",
    "        print(pages, end=\" \")\n",
    "        pages+=1\n",
    "    \n",
    "except exceptions.ElementNotVisibleException as e: # 페이지 끝\n",
    "    pass\n",
    "    \n",
    "except Exception as e: # 다른 예외 발생시 확인\n",
    "    print(e)\n",
    "\n",
    "    \n",
    "html = driver.page_source\n",
    "dom = BeautifulSoup(html, \"lxml\")\n",
    "\n",
    "# 댓글이 들어있는 페이지 전체 크롤링\n",
    "comments_raw = dom.find_all(\"span\", {\"class\" : \"u_cbox_contents\"})\n",
    "\n",
    "# 댓글의 text만 뽑는다.\n",
    "comments = [comment.text for comment in comments_raw]\n",
    "\n",
    "comments[:3]"
   ]
  }
 ],
 "metadata": {
  "kernelspec": {
   "display_name": "Python 3",
   "language": "python",
   "name": "python3"
  },
  "language_info": {
   "codemirror_mode": {
    "name": "ipython",
    "version": 3
   },
   "file_extension": ".py",
   "mimetype": "text/x-python",
   "name": "python",
   "nbconvert_exporter": "python",
   "pygments_lexer": "ipython3",
   "version": "3.6.3"
  }
 },
 "nbformat": 4,
 "nbformat_minor": 2
}
