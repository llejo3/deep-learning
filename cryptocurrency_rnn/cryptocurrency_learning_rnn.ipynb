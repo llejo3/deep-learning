{
 "cells": [
  {
   "cell_type": "code",
   "execution_count": 5,
   "metadata": {},
   "outputs": [],
   "source": [
    "from binance.client import Client\n",
    "import datetime\n",
    "from pytz import timezone\n",
    "import os\n",
    "import pandas as pd\n",
    "from pandas import Series, DataFrame"
   ]
  },
  {
   "cell_type": "code",
   "execution_count": 6,
   "metadata": {
    "collapsed": true
   },
   "outputs": [],
   "source": [
    "client = Client('', '')"
   ]
  },
  {
   "cell_type": "code",
   "execution_count": 183,
   "metadata": {
    "scrolled": true
   },
   "outputs": [
    {
     "data": {
      "text/plain": [
       "'2018-07-27 13:00:00 KST'"
      ]
     },
     "execution_count": 183,
     "metadata": {},
     "output_type": "execute_result"
    }
   ],
   "source": [
    "datetime.datetime.fromtimestamp(klines[0][0]/1000).strftime('%Y-%m-%d %H:%M:%S KST')"
   ]
  },
  {
   "cell_type": "code",
   "execution_count": 109,
   "metadata": {},
   "outputs": [
    {
     "data": {
      "text/plain": [
       "[1532667600000,\n",
       " '0.00167860',\n",
       " '0.00168940',\n",
       " '0.00167650',\n",
       " '0.00168210',\n",
       " '26905.42000000',\n",
       " 1532671199999,\n",
       " '45.30756854',\n",
       " 2100,\n",
       " '11022.13000000',\n",
       " '18.55915285',\n",
       " '0']"
      ]
     },
     "execution_count": 109,
     "metadata": {},
     "output_type": "execute_result"
    }
   ],
   "source": [
    "klines[14]"
   ]
  },
  {
   "cell_type": "code",
   "execution_count": 111,
   "metadata": {},
   "outputs": [
    {
     "data": {
      "text/plain": [
       "[1532667600000,\n",
       " '0.00167860',\n",
       " '0.00168940',\n",
       " '0.00167650',\n",
       " '0.00168160',\n",
       " '27522.32000000',\n",
       " 1532671199999,\n",
       " '46.34475107',\n",
       " 2153,\n",
       " '11309.51000000',\n",
       " '19.04259221',\n",
       " '0']"
      ]
     },
     "execution_count": 111,
     "metadata": {},
     "output_type": "execute_result"
    }
   ],
   "source": [
    "klines[14]"
   ]
  },
  {
   "cell_type": "code",
   "execution_count": 172,
   "metadata": {},
   "outputs": [
    {
     "data": {
      "text/plain": [
       "datetime.datetime(2017, 7, 27, 15, 34, 51, 576513)"
      ]
     },
     "execution_count": 172,
     "metadata": {},
     "output_type": "execute_result"
    }
   ],
   "source": [
    "now_date = datetime.datetime.today()\n",
    "now_date - datetime.timedelta(days=365)"
   ]
  },
  {
   "cell_type": "code",
   "execution_count": 184,
   "metadata": {},
   "outputs": [
    {
     "data": {
      "text/plain": [
       "[1, 2, 3, 2, 4, 4]"
      ]
     },
     "execution_count": 184,
     "metadata": {},
     "output_type": "execute_result"
    }
   ],
   "source": [
    "[1,2,3] + [2,4,4]"
   ]
  },
  {
   "cell_type": "code",
   "execution_count": 1,
   "metadata": {},
   "outputs": [
    {
     "ename": "NameError",
     "evalue": "name 'os' is not defined",
     "output_type": "error",
     "traceback": [
      "\u001b[1;31m---------------------------------------------------------------------------\u001b[0m",
      "\u001b[1;31mNameError\u001b[0m                                 Traceback (most recent call last)",
      "\u001b[1;32m<ipython-input-1-e2a3d70a3e24>\u001b[0m in \u001b[0;36m<module>\u001b[1;34m()\u001b[0m\n\u001b[0;32m     69\u001b[0m \u001b[1;33m\u001b[0m\u001b[0m\n\u001b[0;32m     70\u001b[0m \u001b[1;33m\u001b[0m\u001b[0m\n\u001b[1;32m---> 71\u001b[1;33m \u001b[0mdata\u001b[0m \u001b[1;33m=\u001b[0m \u001b[0mget_klines_data\u001b[0m\u001b[1;33m(\u001b[0m\u001b[1;34m'BNBBTC'\u001b[0m\u001b[1;33m)\u001b[0m\u001b[1;33m\u001b[0m\u001b[0m\n\u001b[0m\u001b[0;32m     72\u001b[0m \u001b[0mdata\u001b[0m\u001b[1;33m\u001b[0m\u001b[0m\n",
      "\u001b[1;32m<ipython-input-1-e2a3d70a3e24>\u001b[0m in \u001b[0;36mget_klines_data\u001b[1;34m(symbol)\u001b[0m\n\u001b[0;32m     42\u001b[0m \u001b[1;32mdef\u001b[0m \u001b[0mget_klines_data\u001b[0m\u001b[1;33m(\u001b[0m\u001b[0msymbol\u001b[0m\u001b[1;33m)\u001b[0m \u001b[1;33m:\u001b[0m\u001b[1;33m\u001b[0m\u001b[0m\n\u001b[0;32m     43\u001b[0m     \u001b[0mfile_path\u001b[0m \u001b[1;33m=\u001b[0m \u001b[1;34m'./data/'\u001b[0m \u001b[1;33m+\u001b[0m \u001b[0msymbol\u001b[0m \u001b[1;33m+\u001b[0m \u001b[1;34m'.csv'\u001b[0m\u001b[1;33m\u001b[0m\u001b[0m\n\u001b[1;32m---> 44\u001b[1;33m     \u001b[1;32mif\u001b[0m \u001b[0mos\u001b[0m\u001b[1;33m.\u001b[0m\u001b[0mpath\u001b[0m\u001b[1;33m.\u001b[0m\u001b[0misfile\u001b[0m\u001b[1;33m(\u001b[0m\u001b[0mfile_path\u001b[0m\u001b[1;33m)\u001b[0m \u001b[1;33m:\u001b[0m\u001b[1;33m\u001b[0m\u001b[0m\n\u001b[0m\u001b[0;32m     45\u001b[0m         \u001b[0mdata\u001b[0m \u001b[1;33m=\u001b[0m \u001b[0mpd\u001b[0m\u001b[1;33m.\u001b[0m\u001b[0mread_csv\u001b[0m\u001b[1;33m(\u001b[0m\u001b[0mfile_path\u001b[0m\u001b[1;33m)\u001b[0m\u001b[1;33m\u001b[0m\u001b[0m\n\u001b[0;32m     46\u001b[0m         \u001b[0mdata\u001b[0m \u001b[1;33m=\u001b[0m \u001b[0mdata\u001b[0m\u001b[1;33m[\u001b[0m\u001b[1;33m:\u001b[0m\u001b[1;33m-\u001b[0m\u001b[1;36m1\u001b[0m\u001b[1;33m]\u001b[0m\u001b[1;33m\u001b[0m\u001b[0m\n",
      "\u001b[1;31mNameError\u001b[0m: name 'os' is not defined"
     ]
    }
   ],
   "source": [
    "HOUR_FORMAT = '%Y/%m/%d %H:%M:%S'\n",
    "\n",
    "def to_date(date_str) :\n",
    "    return datetime.datetime.strptime(date_str, HOUR_FORMAT)\n",
    "\n",
    "def to_hour_str(timestamp) :\n",
    "    if isinstance(timestamp, pd.Series) :\n",
    "        return  pd.DatetimeIndex(pd.to_datetime(timestamp, unit='ms')).tz_localize('UTC').tz_convert('Asia/Seoul').strftime(HOUR_FORMAT)\n",
    "    elif isinstance(timestamp, datetime.datetime) : \n",
    "        return timestamp.strftime(HOUR_FORMAT)\n",
    "    else :\n",
    "        return datetime.datetime.fromtimestamp(timestamp/1000).strftime(HOUR_FORMAT)\n",
    "\n",
    "    \n",
    "def get_klines_binance_data(symbol, start) :\n",
    "    TZ_STR = ' KST'\n",
    "    client = Client('', '')\n",
    "    klines = []\n",
    "    if start == '' :\n",
    "        now_datetime = datetime.datetime.today()\n",
    "        start = to_hour_str(now_datetime - datetime.timedelta(days=365)) \n",
    "        end = to_hour_str(now_datetime - datetime.timedelta(hours=1)) \n",
    "        print(end)\n",
    "        while True :\n",
    "            klines_new = client.get_historical_klines(symbol, Client.KLINE_INTERVAL_1HOUR, start + TZ_STR, end + TZ_STR)\n",
    "            if len(klines_new) == 0:\n",
    "                break\n",
    "            klines = klines_new +  klines   \n",
    "            end = to_hour_str(to_date(start) - datetime.timedelta(hours=1))  \n",
    "            start = to_hour_str(to_date(start) - datetime.timedelta(days=365))  \n",
    "    else :    \n",
    "        klines = client.get_historical_klines(symbol, Client.KLINE_INTERVAL_1HOUR, start + TZ_STR)\n",
    "        klines = klines[:-1]\n",
    "    \n",
    "    df_klines = pd.DataFrame(klines, columns=['open-time', 'open', 'high', 'low', 'close', 'volume', \n",
    "                                              'close-time', 'quote-volume', 'trades-cnt', \n",
    "                                              'taker-base-volume', 'taker-quote-volume', 'unknown'])   \n",
    "    df_klines = df_klines.assign(hour = to_hour_str(df_klines['open-time']))\n",
    "    df_klines = df_klines[['hour', 'open', 'high', 'low', 'close', 'volume']]\n",
    "    return df_klines\n",
    "    \n",
    "def get_klines_data(symbol) :\n",
    "    file_path = './data/' + symbol + '.csv'\n",
    "    if os.path.isfile(file_path) :\n",
    "        data = pd.read_csv(file_path)\n",
    "        data = data[:-1]\n",
    "        hours_last = data.tail(1)['hour'].to_string(index=False)\n",
    "        hour_next = to_hour_str(to_date(hours_last) + datetime.timedelta(hours=1))\n",
    "        new_data = get_klines_binance_data(symbol, hour_next)\n",
    "        if len(new_data) > 0 :\n",
    "            data = data.append(new_data, ignore_index=True)\n",
    "            data.to_csv(file_path, index=False)\n",
    "    else :\n",
    "        data = get_klines_binance_data(symbol, '')\n",
    "        data.to_csv(file_path, index=False)\n",
    "    return data\n",
    "\n",
    "# 데이터를 스케일링 시킨다.\n",
    "def get_scaled_data(data) :\n",
    "    scaled_data = data.copy()\n",
    "    scaled_data = scaled_data[['close', 'open', 'high', 'low', 'volume']]\n",
    "    scaled_data = scaled_data[scaled_data['close']!=0]\n",
    "    scaled_data['close'], scaler_close = get_scaled_cols(scaled_data, 'close')\n",
    "    scaled_data['open'], _ = get_scaled_cols(scaled_data, 'open')\n",
    "    scaled_data['high'], _ = get_scaled_cols(scaled_data, 'high')\n",
    "    scaled_data['low'], _ = get_scaled_cols(scaled_data, 'low')\n",
    "    scaled_data['volume'], _ = get_scaled_cols(scaled_data, 'volume')\n",
    "    return scaled_data, scaler_close;\n",
    "\n",
    "\n",
    "data = get_klines_data('BNBBTC')\n",
    "data"
   ]
  },
  {
   "cell_type": "code",
   "execution_count": 47,
   "metadata": {},
   "outputs": [
    {
     "data": {
      "text/html": [
       "<div>\n",
       "<style scoped>\n",
       "    .dataframe tbody tr th:only-of-type {\n",
       "        vertical-align: middle;\n",
       "    }\n",
       "\n",
       "    .dataframe tbody tr th {\n",
       "        vertical-align: top;\n",
       "    }\n",
       "\n",
       "    .dataframe thead th {\n",
       "        text-align: right;\n",
       "    }\n",
       "</style>\n",
       "<table border=\"1\" class=\"dataframe\">\n",
       "  <thead>\n",
       "    <tr style=\"text-align: right;\">\n",
       "      <th></th>\n",
       "      <th>hour</th>\n",
       "      <th>open</th>\n",
       "      <th>high</th>\n",
       "      <th>low</th>\n",
       "      <th>close</th>\n",
       "      <th>volume</th>\n",
       "    </tr>\n",
       "  </thead>\n",
       "  <tbody>\n",
       "    <tr>\n",
       "      <th>0</th>\n",
       "      <td>2018/08/07 02:00:00</td>\n",
       "      <td>0.00196180</td>\n",
       "      <td>0.00196770</td>\n",
       "      <td>0.00194540</td>\n",
       "      <td>0.00195340</td>\n",
       "      <td>59240.94000000</td>\n",
       "    </tr>\n",
       "  </tbody>\n",
       "</table>\n",
       "</div>"
      ],
      "text/plain": [
       "                  hour        open        high         low       close  \\\n",
       "0  2018/08/07 02:00:00  0.00196180  0.00196770  0.00194540  0.00195340   \n",
       "\n",
       "           volume  \n",
       "0  59240.94000000  "
      ]
     },
     "execution_count": 47,
     "metadata": {},
     "output_type": "execute_result"
    }
   ],
   "source": [
    "get_klines_binance_data('BNBBTC', '2018/08/07 11:00:00 KST')"
   ]
  },
  {
   "cell_type": "code",
   "execution_count": 210,
   "metadata": {},
   "outputs": [
    {
     "data": {
      "text/plain": [
       "datetime.datetime(2018, 7, 27, 15, 0)"
      ]
     },
     "execution_count": 210,
     "metadata": {},
     "output_type": "execute_result"
    }
   ],
   "source": [
    "to_date('2018/07/27 15:00:00 KST')"
   ]
  }
 ],
 "metadata": {
  "kernelspec": {
   "display_name": "Python 3",
   "language": "python",
   "name": "python3"
  },
  "language_info": {
   "codemirror_mode": {
    "name": "ipython",
    "version": 3
   },
   "file_extension": ".py",
   "mimetype": "text/x-python",
   "name": "python",
   "nbconvert_exporter": "python",
   "pygments_lexer": "ipython3",
   "version": "3.6.3"
  }
 },
 "nbformat": 4,
 "nbformat_minor": 2
}
